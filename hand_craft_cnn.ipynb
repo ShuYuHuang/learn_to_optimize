{
 "cells": [
  {
   "cell_type": "code",
   "execution_count": 1,
   "metadata": {},
   "outputs": [
    {
     "data": {
      "text/plain": [
       "[PhysicalDevice(name='/physical_device:GPU:0', device_type='GPU'),\n",
       " PhysicalDevice(name='/physical_device:GPU:1', device_type='GPU'),\n",
       " PhysicalDevice(name='/physical_device:GPU:2', device_type='GPU'),\n",
       " PhysicalDevice(name='/physical_device:GPU:3', device_type='GPU')]"
      ]
     },
     "execution_count": 1,
     "metadata": {},
     "output_type": "execute_result"
    }
   ],
   "source": [
    "import matplotlib.pyplot as plt\n",
    "import numpy as np\n",
    "import os\n",
    "import cv2\n",
    "import tensorflow as tf\n",
    "from tensorflow import keras\n",
    "from tensorflow.keras import utils\n",
    "from tqdm.notebook import tqdm as tqdm\n",
    "import itertools\n",
    "from sklearn.model_selection import train_test_split\n",
    "\n",
    "\n",
    "gpus = tf.config.experimental.list_physical_devices(device_type='GPU')\n",
    "for gpu in gpus:\n",
    "    tf.config.experimental.set_memory_growth( device=gpu, enable=True)\n",
    "tf.config.experimental.list_physical_devices(device_type='GPU')"
   ]
  },
  {
   "cell_type": "code",
   "execution_count": 2,
   "metadata": {},
   "outputs": [],
   "source": [
    "(x_train, y_train), (x_test, y_test) = keras.datasets.mnist.load_data()\n",
    "x_train,x_val,y_train,y_val=train_test_split(x_train, y_train, test_size=len(y_train)//10*2)"
   ]
  },
  {
   "cell_type": "code",
   "execution_count": 3,
   "metadata": {},
   "outputs": [],
   "source": [
    "class DataGenerator(utils.Sequence):\n",
    "    def __init__(self,data,label,way,batch_size=32,shuffle=False):\n",
    "        super().__init__()\n",
    "        self.dataset=np.empty((list(data.shape)+[1]),dtype=np.float32)\n",
    "        self.dataset[...,0]=data\n",
    "        self.labels=utils.to_categorical(label,way)\n",
    "        self.batch_size=batch_size\n",
    "        self.shuffle=shuffle\n",
    "    def __len__(self):\n",
    "        return len(self.dataset)//self.batch_size\n",
    "    def __getitem__(self,index):\n",
    "        x=self.dataset[index*self.batch_size:(index+1)*self.batch_size]/255.\n",
    "        y=self.labels[index*self.batch_size:(index+1)*self.batch_size]\n",
    "        return x,y\n",
    "    def __iter__(self):\n",
    "        \"\"\"Create a generator that iterate over the Sequence.\"\"\"\n",
    "        if self.shuffle:\n",
    "            order=np.random.permutation(len(self.dataset))\n",
    "            self.dataset=self.dataset[order]\n",
    "            self.labels=self.labels[order]\n",
    "        for item in (self[i] for i in range(self.__len__())):\n",
    "            yield item"
   ]
  },
  {
   "cell_type": "code",
   "execution_count": 4,
   "metadata": {},
   "outputs": [
    {
     "data": {
      "text/plain": [
       "(48000,)"
      ]
     },
     "execution_count": 4,
     "metadata": {},
     "output_type": "execute_result"
    }
   ],
   "source": [
    "y_train.shape"
   ]
  },
  {
   "cell_type": "code",
   "execution_count": 5,
   "metadata": {},
   "outputs": [
    {
     "data": {
      "text/plain": [
       "(375, 93)"
      ]
     },
     "execution_count": 5,
     "metadata": {},
     "output_type": "execute_result"
    }
   ],
   "source": [
    "way =10\n",
    "max_epoch = 40\n",
    "BATCH_SIZE=128\n",
    "gen_train=DataGenerator(x_train,y_train,way,batch_size=BATCH_SIZE,shuffle=True)\n",
    "gen_val=DataGenerator(x_val,y_val,way,batch_size=BATCH_SIZE,shuffle=False)\n",
    "len(gen_train), len(gen_val)"
   ]
  },
  {
   "cell_type": "code",
   "execution_count": 6,
   "metadata": {},
   "outputs": [
    {
     "data": {
      "image/png": "[encoded data removed]",
      "text/plain": [
       "<Figure size 367.2x244.8 with 6 Axes>"
      ]
     },
     "metadata": {
      "needs_background": "light"
     },
     "output_type": "display_data"
    }
   ],
   "source": [
    "for batch_data,batch_label in gen_train:\n",
    "    break\n",
    "gp,ee,n_row,n_col=1,1,2,3\n",
    "plt.figure(figsize=(n_col*1.7,n_row*1.7))\n",
    "for ii in range(n_row):\n",
    "    for jj in range(n_col):\n",
    "        plt.subplot(n_row,n_col,ee);plt.axis('off');plt.title(f\"batch{gp}:{batch_label[ee]}\")\n",
    "        plt.imshow(batch_data[ee,...,0],\"gray\")\n",
    "        ee+=1\n",
    "plt.show()"
   ]
  },
  {
   "cell_type": "code",
   "execution_count": 7,
   "metadata": {},
   "outputs": [],
   "source": [
    "# Building blocks\n",
    "class my_cnn2d():\n",
    "    def __init__(self,k_size=3,in_chs=1,n_filters=32):\n",
    "        # Determine initialization parameters\n",
    "        fan_in=k_size*k_size*in_chs\n",
    "        fan_out=k_size*k_size*n_filters\n",
    "        #Xavior initialization\n",
    "        self.w=tf.Variable(tf.random.normal([k_size, k_size, in_chs,n_filters],stddev=np.sqrt(2/(fan_in+fan_out)) ,dtype=tf.float32))\n",
    "#         self.w=tf.Variable(tf.random.uniform([k_size, k_size, in_chs,n_filters],minval=-np.sqrt(6/(fan_in+fan_out)),maxval=np.sqrt(6/(fan_in+fan_out)),dtype=tf.float32))\n",
    "#         self.b=tf.Variable(tf.random.normal([n_filters,],stddev=xavior_std,dtype=tf.float32))\n",
    "        self.b=tf.Variable(tf.zeros([n_filters,],dtype=tf.float32))\n",
    "        self.strides=[1,1,1,1]\n",
    "    def __call__(self,x):\n",
    "        xx=tf.nn.conv2d(x, self.w, strides=self.strides, padding='VALID')+self.b\n",
    "        xx=tf.keras.activations.relu(xx)\n",
    "        y=tf.nn.max_pool2d(xx,ksize=2,strides=2,padding=\"VALID\")\n",
    "        return y\n",
    "class my_conv_1x1():\n",
    "    def __init__(self,in_chs=32,n_filters=32):\n",
    "        # Determine initialization parameters\n",
    "        k_size=1\n",
    "        fan_in=k_size*k_size*in_chs\n",
    "        fan_out=k_size*k_size*n_filters\n",
    "        #Xavior initialization\n",
    "        self.w=tf.Variable(tf.random.normal([k_size, k_size, in_chs,n_filters],stddev=np.sqrt(2/(fan_in+fan_out)) ,dtype=tf.float32))\n",
    "#         self.w=tf.Variable(tf.random.uniform([k_size, k_size, in_chs,n_filters],minval=-np.sqrt(6/(fan_in+fan_out)),maxval=np.sqrt(6/(fan_in+fan_out)),dtype=tf.float32))\n",
    "#         self.b=tf.Variable(tf.random.normal([n_filters,],stddev=xavior_std,dtype=tf.float32))\n",
    "        self.b=tf.Variable(tf.zeros([n_filters,],dtype=tf.float32))\n",
    "        self.strides=[1,1,1,1]\n",
    "    def __call__(self,x):\n",
    "        y=tf.nn.conv2d(x, self.w, strides=self.strides, padding='VALID')+self.b\n",
    "#         y=tf.keras.activations.relu(y)\n",
    "        return y    \n",
    "class my_dense():\n",
    "    def __init__(self,in_chs,out_chs):\n",
    "        # Determine initialization parameters\n",
    "        fan_in=in_chs\n",
    "        fan_out=out_chs\n",
    "        #Xavior initialization\n",
    "        self.w=tf.Variable(tf.random.normal([in_chs,out_chs],stddev=np.sqrt(2/(fan_in+fan_out)) ,dtype=tf.float32))\n",
    "#         self.w=tf.Variable(tf.random.uniform([in_chs,out_chs],minval=-np.sqrt(6/(fan_in+fan_out)),maxval=np.sqrt(6/(fan_in+fan_out)),dtype=tf.float32))\n",
    "#         self.b=tf.Variable(tf.random.normal([out_chs,],stddev=np.sqrt(2/(fan_in+fan_out)),dtype=tf.float32))\n",
    "        self.b=tf.Variable(tf.zeros([out_chs,],dtype=tf.float32))\n",
    "    def __call__(self,x):\n",
    "        y=tf.matmul(x,self.w)+self.b\n",
    "        return y"
   ]
  },
  {
   "cell_type": "code",
   "execution_count": 8,
   "metadata": {},
   "outputs": [],
   "source": [
    "# Model\n",
    "class cnn_model():\n",
    "    def __init__(self,way,n_filter=32,drop_rate=0.3):\n",
    "        self.cnn1=my_cnn2d(3,1,n_filter)\n",
    "        self.cnn1_1=my_conv_1x1(n_filter,n_filter//2)\n",
    "        self.cnn2=my_cnn2d(3,n_filter//2,n_filter)\n",
    "        self.cnn2_1=my_conv_1x1(n_filter,n_filter//2)\n",
    "        self.cnn3=my_cnn2d(3,n_filter//2,n_filter)\n",
    "        self.cnn3_1=my_conv_1x1(n_filter,n_filter//2)\n",
    "#         self.dense=my_dense(1600,way)\n",
    "        self.dense=my_dense(n_filter//2,way)\n",
    "        self.drop_rate=drop_rate    \n",
    "    def __call__(self,x):\n",
    "        xx=self.cnn1(x)\n",
    "        xx=self.cnn1_1(xx)\n",
    "        xx=self.cnn2(xx)\n",
    "        xx=self.cnn2_1(xx)\n",
    "        xx=self.cnn3(xx)\n",
    "        xx=self.cnn3_1(xx)\n",
    "        # global average pooling\n",
    "        xx=tf.nn.avg_pool(xx, ksize=[1]+xx.shape[1:-1]+[1], strides=[1, 1, 1, 1], padding='VALID')\n",
    "        xx=tf.reshape(xx,[xx.shape[0],xx.shape[-1]])\n",
    "#         xx=tf.reshape(xx,[xx.shape[0],-1])\n",
    "        xx=tf.nn.dropout(xx, self.drop_rate)\n",
    "        y=self.dense(xx)\n",
    "        return tf.keras.activations.softmax(y)\n",
    "    def trainable_weights(self):\n",
    "        wt=[]\n",
    "        for ii in [self.cnn1,self.cnn1_1,self.cnn2,self.cnn2_1,self.cnn3,self.cnn3_1,self.dense]:\n",
    "            wt=wt+[ii.w]+[ii.b]\n",
    "        return wt\n",
    "    def print_shape(self):\n",
    "        params=0\n",
    "        for idx,ii in enumerate([self.cnn1,self.cnn1_1,self.cnn2,self.cnn2_1,self.cnn3,self.cnn3_1,self.dense]):\n",
    "            params+=np.prod(ii.w.shape)+np.prod(ii.b.shape)\n",
    "            print(f\"layer idx: w:{ii.w.shape} + b: {ii.b.shape} = {np.prod(ii.w.shape)+np.prod(ii.b.shape)}\")\n",
    "        print(f\"totla {params} parameters\")"
   ]
  },
  {
   "cell_type": "code",
   "execution_count": 9,
   "metadata": {},
   "outputs": [],
   "source": [
    "N_FILTER=32\n",
    "model=cnn_model(way,N_FILTER)"
   ]
  },
  {
   "cell_type": "code",
   "execution_count": 10,
   "metadata": {},
   "outputs": [
    {
     "name": "stdout",
     "output_type": "stream",
     "text": [
      "layer idx: w:(3, 3, 1, 32) + b: (32,) = 320\n",
      "layer idx: w:(1, 1, 32, 16) + b: (16,) = 528\n",
      "layer idx: w:(3, 3, 16, 32) + b: (32,) = 4640\n",
      "layer idx: w:(1, 1, 32, 16) + b: (16,) = 528\n",
      "layer idx: w:(3, 3, 16, 32) + b: (32,) = 4640\n",
      "layer idx: w:(1, 1, 32, 16) + b: (16,) = 528\n",
      "layer idx: w:(16, 10) + b: (10,) = 170\n",
      "totla 11354 parameters\n"
     ]
    }
   ],
   "source": [
    "model.print_shape()"
   ]
  },
  {
   "cell_type": "code",
   "execution_count": 11,
   "metadata": {},
   "outputs": [
    {
     "data": {
      "image/png": "[encoded data removed]",
      "text/plain": [
       "<Figure size 432x288 with 1 Axes>"
      ]
     },
     "metadata": {
      "needs_background": "light"
     },
     "output_type": "display_data"
    }
   ],
   "source": [
    "import matplotlib.pyplot as plt\n",
    "for ii in [model.cnn1,model.cnn2,model.dense]:\n",
    "    plt.plot(np.reshape(ii.w.numpy(),-1))\n",
    "#     plt.title(ii.w.numpy().shape)\n",
    "#     plt.show()"
   ]
  },
  {
   "cell_type": "code",
   "execution_count": 12,
   "metadata": {},
   "outputs": [],
   "source": [
    "lr=0.001\n",
    "opt_cnn=keras.optimizers.Adam(lr=lr)\n",
    "cnn_loss_fn=keras.losses.categorical_crossentropy\n",
    "lstm_loss_fn=keras.losses.mae\n",
    "acc_fn = keras.metrics.categorical_accuracy"
   ]
  },
  {
   "cell_type": "code",
   "execution_count": 13,
   "metadata": {},
   "outputs": [
    {
     "data": {
      "application/vnd.jupyter.widget-view+json": {
       "model_id": "d273f72a12a34dbab293393cddfa457f",
       "version_major": 2,
       "version_minor": 0
      },
      "text/plain": [
       "HBox(children=(IntProgress(value=0, max=375), HTML(value='')))"
      ]
     },
     "metadata": {},
     "output_type": "display_data"
    },
    {
     "name": "stdout",
     "output_type": "stream",
     "text": [
      "\n",
      "CNN val: loss: 0.34499183,acc: 0.90,lr: 0.001\n"
     ]
    },
    {
     "data": {
      "application/vnd.jupyter.widget-view+json": {
       "model_id": "18980937f1844eb6a5d9ce849f624b13",
       "version_major": 2,
       "version_minor": 0
      },
      "text/plain": [
       "HBox(children=(IntProgress(value=0, max=375), HTML(value='')))"
      ]
     },
     "metadata": {},
     "output_type": "display_data"
    },
    {
     "name": "stdout",
     "output_type": "stream",
     "text": [
      "\n",
      "CNN val: loss: 0.22592391,acc: 0.93,lr: 0.001\n"
     ]
    },
    {
     "data": {
      "application/vnd.jupyter.widget-view+json": {
       "model_id": "f20b278a571f4ac6b072ae2ba68e6916",
       "version_major": 2,
       "version_minor": 0
      },
      "text/plain": [
       "HBox(children=(IntProgress(value=0, max=375), HTML(value='')))"
      ]
     },
     "metadata": {},
     "output_type": "display_data"
    },
    {
     "name": "stdout",
     "output_type": "stream",
     "text": [
      "\n",
      "CNN val: loss: 0.17126165,acc: 0.95,lr: 0.001\n"
     ]
    },
    {
     "data": {
      "application/vnd.jupyter.widget-view+json": {
       "model_id": "399b4f73299e4a64aa1854b703060b5a",
       "version_major": 2,
       "version_minor": 0
      },
      "text/plain": [
       "HBox(children=(IntProgress(value=0, max=375), HTML(value='')))"
      ]
     },
     "metadata": {},
     "output_type": "display_data"
    },
    {
     "name": "stdout",
     "output_type": "stream",
     "text": [
      "\n",
      "CNN val: loss: 0.15683946,acc: 0.96,lr: 0.001\n"
     ]
    },
    {
     "data": {
      "application/vnd.jupyter.widget-view+json": {
       "model_id": "514d3cc3320a4495b98c66986009dd6d",
       "version_major": 2,
       "version_minor": 0
      },
      "text/plain": [
       "HBox(children=(IntProgress(value=0, max=375), HTML(value='')))"
      ]
     },
     "metadata": {},
     "output_type": "display_data"
    },
    {
     "name": "stdout",
     "output_type": "stream",
     "text": [
      "\n",
      "CNN val: loss: 0.14577489,acc: 0.96,lr: 0.001\n"
     ]
    },
    {
     "data": {
      "application/vnd.jupyter.widget-view+json": {
       "model_id": "7b79b1c7a8d24f909a5e15e29674ee47",
       "version_major": 2,
       "version_minor": 0
      },
      "text/plain": [
       "HBox(children=(IntProgress(value=0, max=375), HTML(value='')))"
      ]
     },
     "metadata": {},
     "output_type": "display_data"
    },
    {
     "name": "stdout",
     "output_type": "stream",
     "text": [
      "\n",
      "CNN val: loss: 0.14103894,acc: 0.96,lr: 0.001\n"
     ]
    },
    {
     "data": {
      "application/vnd.jupyter.widget-view+json": {
       "model_id": "76fb576d29ce462ca2e63a900052328a",
       "version_major": 2,
       "version_minor": 0
      },
      "text/plain": [
       "HBox(children=(IntProgress(value=0, max=375), HTML(value='')))"
      ]
     },
     "metadata": {},
     "output_type": "display_data"
    },
    {
     "name": "stdout",
     "output_type": "stream",
     "text": [
      "\n",
      "CNN val: loss: 0.11237855,acc: 0.97,lr: 0.001\n"
     ]
    },
    {
     "data": {
      "application/vnd.jupyter.widget-view+json": {
       "model_id": "b6ed5b3820ff42caaeec0e1218d8db47",
       "version_major": 2,
       "version_minor": 0
      },
      "text/plain": [
       "HBox(children=(IntProgress(value=0, max=375), HTML(value='')))"
      ]
     },
     "metadata": {},
     "output_type": "display_data"
    },
    {
     "name": "stdout",
     "output_type": "stream",
     "text": [
      "\n",
      "CNN val: loss: 0.11896275,acc: 0.97,lr: 0.001\n"
     ]
    }
   ],
   "source": [
    "best_loss=np.Inf\n",
    "\n",
    "for epoch in range(max_epoch):\n",
    "    train_sess=tqdm(gen_train)\n",
    "    train_acc=[]\n",
    "    for data,label_1_hot in train_sess:\n",
    "#         label_1_hot = tf.one_hot(tf.cast(label, tf.int32),depth=way)\n",
    "        \n",
    "        with tf.GradientTape() as tape:\n",
    "            logits=model(data)\n",
    "            loss1=tf.reduce_mean(cnn_loss_fn(label_1_hot, logits))\n",
    "        grads=tape.gradient(loss1,model.trainable_weights())\n",
    "#         break\n",
    "        opt_cnn.apply_gradients(zip(grads, model.trainable_weights()))\n",
    "        acc=acc_fn(label_1_hot,logits).numpy().mean()\n",
    "        train_acc.append(acc)\n",
    "        train_sess.set_postfix({\"CNN loss\": loss1.numpy(),\"acc\":np.mean(train_acc)})\n",
    "    val_acc=[]\n",
    "    val_loss=[]\n",
    "    for data,label_1_hot in gen_val:\n",
    "#         label_1_hot = tf.one_hot(tf.cast(label, tf.int32),depth=way)\n",
    "        logits=model(data)\n",
    "        loss1=tf.reduce_mean(cnn_loss_fn(label_1_hot, logits)).numpy()\n",
    "        acc=acc_fn(label_1_hot,logits).numpy().mean()\n",
    "        val_loss.append(loss1)\n",
    "        val_acc.append(acc)\n",
    "    print(f\"CNN val: loss: {np.mean(val_loss):.08f},acc: {np.mean(val_acc):.02f},lr: {lr}\")\n",
    "    if best_loss<np.mean(val_loss):\n",
    "        break\n",
    "    else:\n",
    "        best_loss=np.mean(val_loss)\n",
    "#     break\n",
    "#     lr=lr*0.1\n",
    "#     opt_cnn=keras.optimizers.Adam(lr=lr)"
   ]
  },
  {
   "cell_type": "code",
   "execution_count": null,
   "metadata": {},
   "outputs": [],
   "source": []
  }
 ],
 "metadata": {
  "kernelspec": {
   "display_name": "Python 3",
   "language": "python",
   "name": "python3"
  },
  "language_info": {
   "codemirror_mode": {
    "name": "ipython",
    "version": 3
   },
   "file_extension": ".py",
   "mimetype": "text/x-python",
   "name": "python",
   "nbconvert_exporter": "python",
   "pygments_lexer": "ipython3",
   "version": "3.7.3"
  }
 },
 "nbformat": 4,
 "nbformat_minor": 4
}
