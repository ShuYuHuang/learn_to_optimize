{
 "cells": [
  {
   "cell_type": "code",
   "execution_count": 1,
   "metadata": {},
   "outputs": [],
   "source": [
    "# using tf 2.0\n",
    "import matplotlib.pyplot as plt\n",
    "import numpy as np\n",
    "import os\n",
    "import cv2\n",
    "import tensorflow as tf\n",
    "from tensorflow import keras\n",
    "from tensorflow.keras import utils\n",
    "from tqdm.notebook import tqdm as tqdm\n",
    "import itertools\n",
    "from sklearn.model_selection import train_test_split\n",
    "# Import hand craft scripts\n",
    "import def_model\n",
    "import data_gen\n",
    "\n",
    "gpus = tf.config.experimental.list_physical_devices(device_type='GPU')\n",
    "for gpu in gpus:\n",
    "    tf.config.experimental.set_memory_growth( device=gpu, enable=True)"
   ]
  },
  {
   "cell_type": "code",
   "execution_count": 2,
   "metadata": {},
   "outputs": [],
   "source": [
    "(x_train, y_train), (x_test, y_test) = keras.datasets.mnist.load_data()\n",
    "x_train,x_val,y_train,y_val=train_test_split(x_train, y_train, test_size=len(y_train)//10*2)"
   ]
  },
  {
   "cell_type": "code",
   "execution_count": 3,
   "metadata": {},
   "outputs": [
    {
     "data": {
      "text/plain": [
       "(375, 93)"
      ]
     },
     "execution_count": 3,
     "metadata": {},
     "output_type": "execute_result"
    }
   ],
   "source": [
    "way =10\n",
    "max_epoch = 40\n",
    "BATCH_SIZE=128\n",
    "gen_train=data_gen.DataGenerator(x_train,y_train,way,batch_size=BATCH_SIZE,shuffle=True)\n",
    "gen_val=data_gen.DataGenerator(x_val,y_val,way,batch_size=BATCH_SIZE,shuffle=False)\n",
    "len(gen_train), len(gen_val)"
   ]
  },
  {
   "cell_type": "code",
   "execution_count": 4,
   "metadata": {},
   "outputs": [
    {
     "name": "stdout",
     "output_type": "stream",
     "text": [
      "(128, 28, 28, 1) (128, 10)\n"
     ]
    },
    {
     "data": {
      "image/png": "[encoded data removed]",
      "text/plain": [
       "<Figure size 367.2x244.8 with 6 Axes>"
      ]
     },
     "metadata": {
      "needs_background": "light"
     },
     "output_type": "display_data"
    }
   ],
   "source": [
    "for batch_data,batch_label in gen_train:\n",
    "    break\n",
    "print(batch_data.shape,batch_label.shape)\n",
    "gp,ee,n_row,n_col=1,1,2,3\n",
    "plt.figure(figsize=(n_col*1.7,n_row*1.7))\n",
    "for ii in range(n_row):\n",
    "    for jj in range(n_col):\n",
    "        plt.subplot(n_row,n_col,ee);plt.axis('off');plt.title(f\"batch{gp}:{batch_label[ee]}\")\n",
    "        plt.imshow(batch_data[ee,...,0],\"gray\")\n",
    "        ee+=1\n",
    "plt.show()"
   ]
  },
  {
   "cell_type": "code",
   "execution_count": 5,
   "metadata": {},
   "outputs": [],
   "source": [
    "N_FILTER=32\n",
    "cnn=def_model.cnn_model(way,N_FILTER)\n",
    "\n",
    "cnn_loss_fn=keras.losses.categorical_crossentropy\n",
    "# lstm_loss_fn=keras.losses.mae\n",
    "acc_fn = keras.metrics.categorical_accuracy"
   ]
  },
  {
   "cell_type": "markdown",
   "metadata": {},
   "source": [
    "## There are 11k parameters to update"
   ]
  },
  {
   "cell_type": "code",
   "execution_count": 6,
   "metadata": {},
   "outputs": [
    {
     "name": "stdout",
     "output_type": "stream",
     "text": [
      "layer idx: w:(3, 3, 1, 32) + b: (32,) = 320\n",
      "layer idx: w:(1, 1, 32, 16) + b: (16,) = 528\n",
      "layer idx: w:(3, 3, 16, 32) + b: (32,) = 4640\n",
      "layer idx: w:(1, 1, 32, 16) + b: (16,) = 528\n",
      "layer idx: w:(3, 3, 16, 32) + b: (32,) = 4640\n",
      "layer idx: w:(1, 1, 32, 16) + b: (16,) = 528\n",
      "layer idx: w:(16, 10) + b: (10,) = 170\n",
      "totla 11354 parameters\n"
     ]
    },
    {
     "data": {
      "image/png": "[encoded data removed]",
      "text/plain": [
       "<Figure size 432x288 with 1 Axes>"
      ]
     },
     "metadata": {
      "needs_background": "light"
     },
     "output_type": "display_data"
    }
   ],
   "source": [
    "cnn.print_shape()\n",
    "for ii in [cnn.cnn1,cnn.cnn1_1,cnn.cnn2,cnn.cnn2_1,cnn.cnn3,cnn.cnn3_1,cnn.dense]:\n",
    "    plt.hist(np.reshape(ii.w.numpy(),-1))\n",
    "plt.title(\"weights\")\n",
    "plt.show()"
   ]
  },
  {
   "cell_type": "code",
   "execution_count": 7,
   "metadata": {},
   "outputs": [],
   "source": [
    "def flat_tensors(mdl):\n",
    "    tensors=tf.concat([tf.reshape(ww,[-1]) for ww in mdl],axis=0)\n",
    "    return tf.reshape(tensors,(len(tensors),1,1))\n",
    "lr=0.001\n",
    "\n",
    "cnn_param_num=sum([np.prod(ww.shape) for ww in cnn.trainable_weights()])\n",
    "cnn_loss_fn=keras.losses.categorical_crossentropy\n",
    "acc_fn = keras.metrics.categorical_accuracy"
   ]
  },
  {
   "cell_type": "code",
   "execution_count": 13,
   "metadata": {},
   "outputs": [
    {
     "data": {
      "application/vnd.jupyter.widget-view+json": {
       "model_id": "5b8f72a8735f40278c9aadc88ff5e6fe",
       "version_major": 2,
       "version_minor": 0
      },
      "text/plain": [
       "HBox(children=(IntProgress(value=0, max=375), HTML(value='')))"
      ]
     },
     "metadata": {},
     "output_type": "display_data"
    },
    {
     "name": "stdout",
     "output_type": "stream",
     "text": [
      "\n",
      "CNN val: loss: 0.13870695,acc: 0.96,lr: 0.001\n"
     ]
    },
    {
     "data": {
      "application/vnd.jupyter.widget-view+json": {
       "model_id": "245c5827cf874fed87881fd6ef4ccef7",
       "version_major": 2,
       "version_minor": 0
      },
      "text/plain": [
       "HBox(children=(IntProgress(value=0, max=375), HTML(value='')))"
      ]
     },
     "metadata": {},
     "output_type": "display_data"
    },
    {
     "name": "stdout",
     "output_type": "stream",
     "text": [
      "\n",
      "CNN val: loss: 0.13435678,acc: 0.96,lr: 0.001\n"
     ]
    },
    {
     "data": {
      "application/vnd.jupyter.widget-view+json": {
       "model_id": "9d18a844c7d9402393348524e52f2890",
       "version_major": 2,
       "version_minor": 0
      },
      "text/plain": [
       "HBox(children=(IntProgress(value=0, max=375), HTML(value='')))"
      ]
     },
     "metadata": {},
     "output_type": "display_data"
    },
    {
     "name": "stdout",
     "output_type": "stream",
     "text": [
      "\n",
      "CNN val: loss: 0.11681845,acc: 0.97,lr: 0.001\n"
     ]
    },
    {
     "data": {
      "application/vnd.jupyter.widget-view+json": {
       "model_id": "079c178a5d054f7fb9eeaee4f04383c7",
       "version_major": 2,
       "version_minor": 0
      },
      "text/plain": [
       "HBox(children=(IntProgress(value=0, max=375), HTML(value='')))"
      ]
     },
     "metadata": {},
     "output_type": "display_data"
    },
    {
     "name": "stdout",
     "output_type": "stream",
     "text": [
      "\n",
      "CNN val: loss: 0.11540029,acc: 0.97,lr: 0.001\n"
     ]
    },
    {
     "data": {
      "application/vnd.jupyter.widget-view+json": {
       "model_id": "be6d163d3e8343318916988d67424688",
       "version_major": 2,
       "version_minor": 0
      },
      "text/plain": [
       "HBox(children=(IntProgress(value=0, max=375), HTML(value='')))"
      ]
     },
     "metadata": {},
     "output_type": "display_data"
    },
    {
     "name": "stdout",
     "output_type": "stream",
     "text": [
      "\n",
      "CNN val: loss: 0.10208923,acc: 0.97,lr: 0.001\n"
     ]
    },
    {
     "data": {
      "application/vnd.jupyter.widget-view+json": {
       "model_id": "2d81a5aed48645cfb2855d5ae47a18f6",
       "version_major": 2,
       "version_minor": 0
      },
      "text/plain": [
       "HBox(children=(IntProgress(value=0, max=375), HTML(value='')))"
      ]
     },
     "metadata": {},
     "output_type": "display_data"
    },
    {
     "name": "stdout",
     "output_type": "stream",
     "text": [
      "\n",
      "CNN val: loss: 0.09763445,acc: 0.97,lr: 0.001\n"
     ]
    },
    {
     "data": {
      "application/vnd.jupyter.widget-view+json": {
       "model_id": "009bb4b63e444b0bb263ceaca756340e",
       "version_major": 2,
       "version_minor": 0
      },
      "text/plain": [
       "HBox(children=(IntProgress(value=0, max=375), HTML(value='')))"
      ]
     },
     "metadata": {},
     "output_type": "display_data"
    },
    {
     "name": "stdout",
     "output_type": "stream",
     "text": [
      "\n",
      "CNN val: loss: 0.10191697,acc: 0.97,lr: 0.001\n"
     ]
    }
   ],
   "source": [
    "best_loss=np.Inf\n",
    "count=0\n",
    "for epoch in range(max_epoch):\n",
    "    train_sess=tqdm(gen_train)\n",
    "    train_acc=[]    \n",
    "    for data,label_1_hot in train_sess:\n",
    "        count=count+1\n",
    "        with tf.GradientTape() as tape:\n",
    "            logits=cnn(data)\n",
    "            loss1=cnn_loss_fn(label_1_hot, logits)\n",
    "#             +tf.sqrt(tf.reduce_mean(new_update**2))*0.5\n",
    "        grads_cnn=tape.gradient(loss1,cnn.trainable_weights())\n",
    "        cnn.assign_update(flat_tensors(grads_cnn)*lr)\n",
    "        acc=acc_fn(label_1_hot,logits).numpy().mean()\n",
    "        train_acc.append(acc)\n",
    "        train_sess.set_postfix({\"CNN loss\": loss1.numpy().mean(),\"acc\":np.mean(train_acc)})\n",
    "    val_acc=[]\n",
    "    val_loss=[]\n",
    "    for data,label_1_hot in gen_val:\n",
    "#         label_1_hot = tf.one_hot(tf.cast(label, tf.int32),depth=way)\n",
    "        logits=cnn(data)\n",
    "        loss1=cnn_loss_fn(label_1_hot, logits).numpy()\n",
    "        acc=acc_fn(label_1_hot,logits).numpy().mean()\n",
    "        val_loss.append(loss1)\n",
    "        val_acc.append(acc)\n",
    "    print(f\"CNN val: loss: {np.mean(val_loss):.08f},acc: {np.mean(val_acc):.02f},lr: {lr}\")\n",
    "    if best_loss<np.mean(val_loss):\n",
    "        break\n",
    "    else:\n",
    "        best_loss=np.mean(val_loss)\n",
    "#     lr=lr*0.1\n",
    "#     opt_cnn=keras.optimizers.Adam(lr=lr)"
   ]
  },
  {
   "cell_type": "code",
   "execution_count": null,
   "metadata": {},
   "outputs": [],
   "source": []
  },
  {
   "cell_type": "code",
   "execution_count": null,
   "metadata": {},
   "outputs": [],
   "source": []
  }
 ],
 "metadata": {
  "kernelspec": {
   "display_name": "Python 3",
   "language": "python",
   "name": "python3"
  },
  "language_info": {
   "codemirror_mode": {
    "name": "ipython",
    "version": 3
   },
   "file_extension": ".py",
   "mimetype": "text/x-python",
   "name": "python",
   "nbconvert_exporter": "python",
   "pygments_lexer": "ipython3",
   "version": "3.7.3"
  }
 },
 "nbformat": 4,
 "nbformat_minor": 4
}
