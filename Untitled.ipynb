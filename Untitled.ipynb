{
 "cells": [
  {
   "cell_type": "code",
   "execution_count": 1,
   "metadata": {},
   "outputs": [],
   "source": [
    "import numpy as np\n",
    "import tensorflow as tf\n",
    "from tensorflow import keras\n",
    "from tensorflow.keras import utils\n",
    "import def_model"
   ]
  },
  {
   "cell_type": "code",
   "execution_count": 2,
   "metadata": {},
   "outputs": [],
   "source": [
    "cnn=def_model.cnn_model(3,16)"
   ]
  },
  {
   "cell_type": "code",
   "execution_count": 4,
   "metadata": {},
   "outputs": [
    {
     "name": "stdout",
     "output_type": "stream",
     "text": [
      "(3, 3, 1, 16)\n",
      "(16,)\n",
      "(1, 1, 16, 8)\n",
      "(8,)\n",
      "(3, 3, 8, 16)\n",
      "(16,)\n",
      "(1, 1, 16, 8)\n",
      "(8,)\n",
      "(3, 3, 8, 16)\n",
      "(16,)\n",
      "(1, 1, 16, 8)\n",
      "(8,)\n",
      "(8, 3)\n",
      "(3,)\n"
     ]
    }
   ],
   "source": [
    "for ii in cnn.trainable_weights():\n",
    "    print(ii.shape)"
   ]
  },
  {
   "cell_type": "code",
   "execution_count": 6,
   "metadata": {},
   "outputs": [
    {
     "name": "stdout",
     "output_type": "stream",
     "text": [
      "1.0\n",
      "tf.Tensor(-0.016329315, shape=(), dtype=float32)\n"
     ]
    }
   ],
   "source": [
    "zz=[]\n",
    "ee=0\n",
    "for ii in cnn.trainable_weights():\n",
    "    tmp=np.zeros(ii.shape,dtype=np.float32)\n",
    "    if ee== 4:\n",
    "        tmp[1,1,5,13]=1\n",
    "    zz.append(tmp)\n",
    "    ee+=1\n",
    "print(zz[4][1,1,5,13])\n",
    "print(cnn.cnn2.w[1,1,5,13])"
   ]
  },
  {
   "cell_type": "code",
   "execution_count": 7,
   "metadata": {},
   "outputs": [
    {
     "name": "stdout",
     "output_type": "stream",
     "text": [
      "tf.Tensor(-0.036229935, shape=(), dtype=float32)\n",
      "tf.Tensor(0.9637701, shape=(), dtype=float32)\n"
     ]
    }
   ],
   "source": [
    "print(cnn.cnn2.w[1,1,5,13])\n",
    "def flat_tensors(mdl):\n",
    "    tensors=tf.concat([tf.reshape(ww,[-1]) for ww in mdl],axis=0)\n",
    "    return tf.reshape(tensors,(len(tensors),1,1))\n",
    "f_z=flat_tensors(zz)\n",
    "# stored_weight=flat_tensors(cnn.trainable_weights)\n",
    "\n",
    "cnn.assign_update(f_z)\n",
    "\n",
    "print(cnn.cnn2.w[1,1,5,13])"
   ]
  },
  {
   "cell_type": "code",
   "execution_count": 8,
   "metadata": {},
   "outputs": [
    {
     "data": {
      "text/plain": [
       "<tf.Tensor: id=325, shape=(), dtype=int64, numpy=901>"
      ]
     },
     "execution_count": 8,
     "metadata": {},
     "output_type": "execute_result"
    }
   ],
   "source": [
    "tf.argmax(f_z[:,0,0])"
   ]
  },
  {
   "cell_type": "code",
   "execution_count": 10,
   "metadata": {},
   "outputs": [
    {
     "name": "stdout",
     "output_type": "stream",
     "text": [
      "tf.Tensor(0.9637701, shape=(), dtype=float32)\n",
      "tf.Tensor(-0.036229935, shape=(), dtype=float32)\n"
     ]
    }
   ],
   "source": [
    "# stored_weight=stored_weight+f_z\n",
    "# print(stored_weight[901])\n",
    "print(cnn.cnn2.w[1,1,5,13])\n",
    "print(cnn.trainable_weights[4][1,1,5,13])"
   ]
  },
  {
   "cell_type": "code",
   "execution_count": 21,
   "metadata": {},
   "outputs": [],
   "source": [
    "a=flat_tensors(wt)"
   ]
  },
  {
   "cell_type": "code",
   "execution_count": 22,
   "metadata": {},
   "outputs": [
    {
     "data": {
      "text/plain": [
       "TensorShape([16, 1, 1])"
      ]
     },
     "execution_count": 22,
     "metadata": {},
     "output_type": "execute_result"
    }
   ],
   "source": [
    "a.shape"
   ]
  },
  {
   "cell_type": "code",
   "execution_count": 23,
   "metadata": {},
   "outputs": [
    {
     "data": {
      "text/plain": [
       "[<matplotlib.lines.Line2D at 0x7f43ac0a29b0>]"
      ]
     },
     "execution_count": 23,
     "metadata": {},
     "output_type": "execute_result"
    },
    {
     "data": {
      "image/png": "[encoded data removed]",
      "text/plain": [
       "<Figure size 432x288 with 1 Axes>"
      ]
     },
     "metadata": {
      "needs_background": "light"
     },
     "output_type": "display_data"
    }
   ],
   "source": [
    "import matplotlib.pyplot as plt\n",
    "plt.plot(a[:,0,0])"
   ]
  },
  {
   "cell_type": "code",
   "execution_count": 24,
   "metadata": {},
   "outputs": [
    {
     "data": {
      "text/plain": [
       "<tf.Tensor: id=177, shape=(16,), dtype=float64, numpy=array([1., 1., 1., 1., 1., 1., 1., 1., 0., 1., 1., 1., 0., 0., 1., 0.])>"
      ]
     },
     "execution_count": 24,
     "metadata": {},
     "output_type": "execute_result"
    }
   ],
   "source": [
    "a[:16,0,0]"
   ]
  },
  {
   "cell_type": "code",
   "execution_count": 26,
   "metadata": {},
   "outputs": [],
   "source": [
    "nn=0\n",
    "w1=[]\n",
    "for ii in [w,b]:\n",
    "    flt_len=np.prod(ii.shape)\n",
    "    w1.append(tf.reshape(a[nn:nn+flt_len],ii.shape))\n",
    "    nn+=flt_len"
   ]
  },
  {
   "cell_type": "markdown",
   "metadata": {},
   "source": [
    "## 使用 \"-\" 來做weight update"
   ]
  },
  {
   "cell_type": "code",
   "execution_count": 52,
   "metadata": {},
   "outputs": [
    {
     "name": "stdout",
     "output_type": "stream",
     "text": [
      "<tf.Variable 'Variable:0' shape=(4, 3) dtype=float64, numpy=\n",
      "array([[1., 1., 1.],\n",
      "       [1., 1., 1.],\n",
      "       [1., 1., 1.],\n",
      "       [1., 1., 1.]])>\n",
      "<tf.Variable 'Variable:0' shape=(4, 3) dtype=float64, numpy=\n",
      "array([[0.5, 0.5, 0.5],\n",
      "       [0.5, 0.5, 0.5],\n",
      "       [0.5, 0.5, 0.5],\n",
      "       [0.5, 0.5, 0.5]])>\n",
      "tf.Tensor(\n",
      "[[-0.125 -0.125 -0.125]\n",
      " [-0.125 -0.125 -0.125]\n",
      " [-0.125 -0.125 -0.125]\n",
      " [-0.125 -0.125 -0.125]], shape=(4, 3), dtype=float64)\n"
     ]
    }
   ],
   "source": [
    "a=tf.Variable(np.ones((4,3)))\n",
    "b=tf.Variable(np.ones((4,3)))\n",
    "with tf.GradientTape() as tape:\n",
    "    c=a*5\n",
    "    b.assign_sub(c*0.1)\n",
    "    b_=b-c*0.1\n",
    "    d=b_*3+1\n",
    "    e=tf.reduce_mean(d)\n",
    "gg=tape.gradient(e,a)\n",
    "print(a)\n",
    "print(b)\n",
    "print(gg)"
   ]
  },
  {
   "cell_type": "markdown",
   "metadata": {},
   "source": [
    "## 使用 \"assign\" 來做weight update"
   ]
  },
  {
   "cell_type": "code",
   "execution_count": 51,
   "metadata": {},
   "outputs": [
    {
     "name": "stdout",
     "output_type": "stream",
     "text": [
      "<tf.Variable 'Variable:0' shape=(4, 3) dtype=float64, numpy=\n",
      "array([[1., 1., 1.],\n",
      "       [1., 1., 1.],\n",
      "       [1., 1., 1.],\n",
      "       [1., 1., 1.]])>\n",
      "<tf.Variable 'Variable:0' shape=(4, 3) dtype=float64, numpy=\n",
      "array([[0.5, 0.5, 0.5],\n",
      "       [0.5, 0.5, 0.5],\n",
      "       [0.5, 0.5, 0.5],\n",
      "       [0.5, 0.5, 0.5]])>\n",
      "None\n"
     ]
    }
   ],
   "source": [
    "a=tf.Variable(np.ones((4,3)))\n",
    "b=tf.Variable(np.ones((4,3)))\n",
    "with tf.GradientTape() as tape:\n",
    "    c=a*5\n",
    "    b.assign_sub(c*0.1)\n",
    "    d=b*3+1\n",
    "    e=tf.reduce_mean(d)\n",
    "gg=tape.gradient(e,a)\n",
    "print(a)\n",
    "print(b)\n",
    "print(gg)"
   ]
  },
  {
   "cell_type": "markdown",
   "metadata": {},
   "source": [
    "Assign會使 gradient computation斷掉"
   ]
  },
  {
   "cell_type": "markdown",
   "metadata": {},
   "source": [
    "## 使用 persistent 接兩段"
   ]
  },
  {
   "cell_type": "code",
   "execution_count": 60,
   "metadata": {},
   "outputs": [
    {
     "name": "stdout",
     "output_type": "stream",
     "text": [
      "<tf.Variable 'Variable:0' shape=(4, 3) dtype=float64, numpy=\n",
      "array([[1., 1., 1.],\n",
      "       [1., 1., 1.],\n",
      "       [1., 1., 1.],\n",
      "       [1., 1., 1.]])>\n",
      "<tf.Variable 'Variable:0' shape=(4, 3) dtype=float64, numpy=\n",
      "array([[0.5, 0.5, 0.5],\n",
      "       [0.5, 0.5, 0.5],\n",
      "       [0.5, 0.5, 0.5],\n",
      "       [0.5, 0.5, 0.5]])>\n",
      "tf.Tensor(\n",
      "[[5. 5. 5.]\n",
      " [5. 5. 5.]\n",
      " [5. 5. 5.]\n",
      " [5. 5. 5.]], shape=(4, 3), dtype=float64)\n"
     ]
    }
   ],
   "source": [
    "a=tf.Variable(np.ones((4,3)))\n",
    "b=tf.Variable(np.ones((4,3)))\n",
    "with tf.GradientTape(persistent=True) as tape:\n",
    "    c=a*5\n",
    "    b.assign(b-c*0.1)\n",
    "    d=b*3+1\n",
    "    e=tf.reduce_mean(d)\n",
    "gg1=tape.gradient(e,b)\n",
    "gg=tape.gradient(c,a,output_gradients=-gg1)\n",
    "print(a)\n",
    "print(b)\n",
    "print(gg)"
   ]
  },
  {
   "cell_type": "code",
   "execution_count": null,
   "metadata": {},
   "outputs": [],
   "source": []
  }
 ],
 "metadata": {
  "kernelspec": {
   "display_name": "Python 3",
   "language": "python",
   "name": "python3"
  },
  "language_info": {
   "codemirror_mode": {
    "name": "ipython",
    "version": 3
   },
   "file_extension": ".py",
   "mimetype": "text/x-python",
   "name": "python",
   "nbconvert_exporter": "python",
   "pygments_lexer": "ipython3",
   "version": "3.7.3"
  }
 },
 "nbformat": 4,
 "nbformat_minor": 4
}
