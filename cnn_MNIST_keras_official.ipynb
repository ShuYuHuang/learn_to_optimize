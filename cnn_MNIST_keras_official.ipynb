{
 "cells": [
  {
   "cell_type": "code",
   "execution_count": 1,
   "metadata": {},
   "outputs": [
    {
     "data": {
      "text/plain": [
       "[PhysicalDevice(name='/physical_device:GPU:0', device_type='GPU'),\n",
       " PhysicalDevice(name='/physical_device:GPU:1', device_type='GPU'),\n",
       " PhysicalDevice(name='/physical_device:GPU:2', device_type='GPU'),\n",
       " PhysicalDevice(name='/physical_device:GPU:3', device_type='GPU')]"
      ]
     },
     "execution_count": 1,
     "metadata": {},
     "output_type": "execute_result"
    }
   ],
   "source": [
    "import numpy as np\n",
    "import tensorflow as tf\n",
    "from tensorflow import keras\n",
    "from tensorflow.keras import layers\n",
    "\n",
    "gpus = tf.config.experimental.list_physical_devices(device_type='GPU')\n",
    "for gpu in gpus:\n",
    "    tf.config.experimental.set_memory_growth( device=gpu, enable=True)\n",
    "tf.config.experimental.list_physical_devices(device_type='GPU')"
   ]
  },
  {
   "cell_type": "code",
   "execution_count": 2,
   "metadata": {},
   "outputs": [
    {
     "name": "stdout",
     "output_type": "stream",
     "text": [
      "x_train shape: (60000, 28, 28, 1)\n",
      "60000 train samples\n",
      "10000 test samples\n"
     ]
    }
   ],
   "source": [
    "# Model / data parameters\n",
    "num_classes = 10\n",
    "input_shape = (28, 28, 1)\n",
    "\n",
    "# the data, split between train and test sets\n",
    "(x_train, y_train), (x_test, y_test) = keras.datasets.mnist.load_data()\n",
    "\n",
    "# Scale images to the [0, 1] range\n",
    "x_train = x_train.astype(\"float32\") / 255\n",
    "x_test = x_test.astype(\"float32\") / 255\n",
    "# Make sure images have shape (28, 28, 1)\n",
    "x_train = np.expand_dims(x_train, -1)\n",
    "x_test = np.expand_dims(x_test, -1)\n",
    "print(\"x_train shape:\", x_train.shape)\n",
    "print(x_train.shape[0], \"train samples\")\n",
    "print(x_test.shape[0], \"test samples\")\n",
    "\n",
    "\n",
    "# convert class vectors to binary class matrices\n",
    "y_train = keras.utils.to_categorical(y_train, num_classes)\n",
    "y_test = keras.utils.to_categorical(y_test, num_classes)"
   ]
  },
  {
   "cell_type": "code",
   "execution_count": 3,
   "metadata": {},
   "outputs": [
    {
     "data": {
      "text/plain": [
       "array([[0., 0., 0., ..., 0., 0., 0.],\n",
       "       [1., 0., 0., ..., 0., 0., 0.],\n",
       "       [0., 0., 0., ..., 0., 0., 0.],\n",
       "       ...,\n",
       "       [0., 0., 0., ..., 0., 0., 0.],\n",
       "       [0., 0., 0., ..., 0., 0., 0.],\n",
       "       [0., 0., 0., ..., 0., 1., 0.]], dtype=float32)"
      ]
     },
     "execution_count": 3,
     "metadata": {},
     "output_type": "execute_result"
    }
   ],
   "source": [
    "y_train"
   ]
  },
  {
   "cell_type": "code",
   "execution_count": 4,
   "metadata": {},
   "outputs": [],
   "source": [
    "model = keras.Sequential(\n",
    "    [\n",
    "        keras.Input(shape=input_shape),\n",
    "        layers.Conv2D(32, kernel_size=(3, 3), activation=\"relu\"),\n",
    "        layers.MaxPooling2D(pool_size=(2, 2)),\n",
    "        \n",
    "        layers.Conv2D(64, kernel_size=(3, 3), activation=\"relu\"),\n",
    "        layers.MaxPooling2D(pool_size=(2, 2)),\n",
    "        \n",
    "        layers.Flatten(),\n",
    "        layers.Dropout(0.5),\n",
    "        layers.Dense(num_classes, activation=\"softmax\"),\n",
    "    ]\n",
    ")"
   ]
  },
  {
   "cell_type": "code",
   "execution_count": 32,
   "metadata": {},
   "outputs": [
    {
     "name": "stdout",
     "output_type": "stream",
     "text": [
      "(3, 3, 1, 32)\n",
      "(3, 3, 32, 64)\n",
      "(1600, 10)\n"
     ]
    }
   ],
   "source": [
    "for ii in [0,2,6]:\n",
    "    print(model.layers[ii].weights[0].shape)"
   ]
  },
  {
   "cell_type": "code",
   "execution_count": 31,
   "metadata": {},
   "outputs": [
    {
     "data": {
      "image/png": "[encoded data removed]",
      "text/plain": [
       "<Figure size 432x288 with 1 Axes>"
      ]
     },
     "metadata": {
      "needs_background": "light"
     },
     "output_type": "display_data"
    }
   ],
   "source": [
    "import matplotlib.pyplot as plt\n",
    "for ii in [0,2,6]:\n",
    "    plt.plot(np.reshape(model.layers[ii].weights[0].numpy(),-1))"
   ]
  },
  {
   "cell_type": "code",
   "execution_count": 9,
   "metadata": {},
   "outputs": [
    {
     "name": "stdout",
     "output_type": "stream",
     "text": [
      "Train on 48000 samples, validate on 12000 samples\n",
      "Epoch 1/15\n",
      "48000/48000 [==============================] - 2s 37us/sample - loss: 0.4108 - accuracy: 0.8735 - val_loss: 0.1049 - val_accuracy: 0.9718\n",
      "Epoch 2/15\n",
      "48000/48000 [==============================] - 1s 24us/sample - loss: 0.1202 - accuracy: 0.9642 - val_loss: 0.0688 - val_accuracy: 0.9813\n",
      "Epoch 3/15\n",
      "48000/48000 [==============================] - 1s 24us/sample - loss: 0.0887 - accuracy: 0.9730 - val_loss: 0.0583 - val_accuracy: 0.9838\n",
      "Epoch 4/15\n",
      "48000/48000 [==============================] - 1s 24us/sample - loss: 0.0734 - accuracy: 0.9772 - val_loss: 0.0470 - val_accuracy: 0.9872\n",
      "Epoch 5/15\n",
      "48000/48000 [==============================] - 1s 25us/sample - loss: 0.0669 - accuracy: 0.9797 - val_loss: 0.0465 - val_accuracy: 0.9865\n",
      "Epoch 6/15\n",
      "48000/48000 [==============================] - 1s 24us/sample - loss: 0.0577 - accuracy: 0.9820 - val_loss: 0.0432 - val_accuracy: 0.9879\n",
      "Epoch 7/15\n",
      "48000/48000 [==============================] - 1s 25us/sample - loss: 0.0553 - accuracy: 0.9827 - val_loss: 0.0431 - val_accuracy: 0.9876\n",
      "Epoch 8/15\n",
      "48000/48000 [==============================] - 1s 24us/sample - loss: 0.0516 - accuracy: 0.9834 - val_loss: 0.0398 - val_accuracy: 0.9885\n",
      "Epoch 9/15\n",
      "48000/48000 [==============================] - 1s 24us/sample - loss: 0.0464 - accuracy: 0.9850 - val_loss: 0.0388 - val_accuracy: 0.9895\n",
      "Epoch 10/15\n",
      "48000/48000 [==============================] - 1s 25us/sample - loss: 0.0459 - accuracy: 0.9854 - val_loss: 0.0370 - val_accuracy: 0.9900\n",
      "Epoch 11/15\n",
      "48000/48000 [==============================] - 1s 24us/sample - loss: 0.0427 - accuracy: 0.9861 - val_loss: 0.0349 - val_accuracy: 0.9902\n",
      "Epoch 12/15\n",
      "48000/48000 [==============================] - 1s 24us/sample - loss: 0.0396 - accuracy: 0.9871 - val_loss: 0.0354 - val_accuracy: 0.9902\n",
      "Epoch 13/15\n",
      "48000/48000 [==============================] - 1s 24us/sample - loss: 0.0380 - accuracy: 0.9879 - val_loss: 0.0341 - val_accuracy: 0.9907\n",
      "Epoch 14/15\n",
      "48000/48000 [==============================] - 1s 25us/sample - loss: 0.0373 - accuracy: 0.9877 - val_loss: 0.0334 - val_accuracy: 0.9908\n",
      "Epoch 15/15\n",
      "48000/48000 [==============================] - 1s 24us/sample - loss: 0.0362 - accuracy: 0.9885 - val_loss: 0.0315 - val_accuracy: 0.9916\n"
     ]
    },
    {
     "data": {
      "text/plain": [
       "<tensorflow.python.keras.callbacks.History at 0x7f63a89cb940>"
      ]
     },
     "execution_count": 9,
     "metadata": {},
     "output_type": "execute_result"
    }
   ],
   "source": [
    "batch_size = 128\n",
    "epochs = 15\n",
    "\n",
    "model.compile(loss=\"categorical_crossentropy\", optimizer=\"adam\", metrics=[\"accuracy\"])\n",
    "\n",
    "model.fit(x_train, y_train, batch_size=batch_size, epochs=epochs, validation_split=0.2)"
   ]
  },
  {
   "cell_type": "code",
   "execution_count": 25,
   "metadata": {},
   "outputs": [
    {
     "data": {
      "text/plain": [
       "<tensorflow.python.keras.engine.sequential.Sequential at 0x7f63a8ba9b38>"
      ]
     },
     "execution_count": 25,
     "metadata": {},
     "output_type": "execute_result"
    }
   ],
   "source": [
    "model"
   ]
  },
  {
   "cell_type": "code",
   "execution_count": null,
   "metadata": {},
   "outputs": [],
   "source": []
  }
 ],
 "metadata": {
  "kernelspec": {
   "display_name": "Python 3",
   "language": "python",
   "name": "python3"
  },
  "language_info": {
   "codemirror_mode": {
    "name": "ipython",
    "version": 3
   },
   "file_extension": ".py",
   "mimetype": "text/x-python",
   "name": "python",
   "nbconvert_exporter": "python",
   "pygments_lexer": "ipython3",
   "version": "3.7.3"
  }
 },
 "nbformat": 4,
 "nbformat_minor": 4
}
